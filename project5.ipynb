{
 "cells": [
  {
   "cell_type": "markdown",
   "metadata": {},
   "source": [
    "---\n",
    "# Binary black holes\n",
    "---"
   ]
  },
  {
   "cell_type": "markdown",
   "metadata": {},
   "source": [
    "I used the binary population synthesis code MOBSE to simulate three populations of isolated stellar binaries with different metallicities with the aim to investigate its impact on the mass distribution of the binary black holes (BBHs) and on their merger fraction.  "
   ]
  },
  {
   "cell_type": "markdown",
   "metadata": {},
   "source": [
    "### Simulation setup\n",
    "<u>Initial condition for the stellar binaries: </u>\n",
    "- the ZAMS mass of the primary star was generated according to a Kroupa IMF:     $\\quad f(m_1)\\propto m_1^{-2.3}$   with $m_1 \\in [5 , 50]$ M$_{\\odot}$\n",
    "\n",
    "\n",
    "- the ZAMS mass of the companion was derived considering the distribution of the mass ratio $q=\\frac{m_1}{m_2}$:     $\\quad f(q) \\propto q^{-0.1}$   with $q\\in [0,1]$\n",
    "\n",
    "<u>Simulation parameters: </u>\n",
    "\n",
    "- I considered the delayed supernova mechanism, in which the shockwave is revived by convective motions with a delay of > 0.2 seconds from the bounce. This implies an explosion of lower energy, which results in a larger fallback and therefore a compact remnant of larger mass, if compared to the rapid shock revival case.   \n",
    "<br>\n",
    "\n",
    "- The BH natal kick is assumed to be Maxwellian distributed with rms $\\sigma_{kick}$ = 265 km/s, like the one observed for neutron stars, <br>and it's rescaled according to $v_{kick} \\propto m_{rem}^{-1}\\,\\, m_{ej}$  to take into account linear momentum conservation (inverse proportionality to the mass of the compact remnant) and fallback (direct proportionality to the amount of ejected mass). \n",
    "<br>\n",
    "\n",
    "- The common envelope process is described by the $\\alpha\\lambda$ formalism: <br> $\\lambda = 0.1$ is a correction factor for the common envelope binding energy to take into account the geometry of the envelope. <br>$\\alpha$ is a free parameter giving the fraction of orbital energy that contributes to unbind the envelope. It can be considered as an effective parameter accounting for all processes that contribute to unbind the envelope, making it possible to set $\\alpha>1$. I considered a scenario in which all the orbital energy is transferred to the common envelope and other sources of energy are negligible. \n",
    "\n",
    "simulation parametres        |                         |  \n",
    ":----------------------------|:-----------------------|\n",
    "number of binaries   |   $2 \\cdot10^6$                  |\n",
    "total integration time     |   4 Myr |\n",
    "SN mechanism  | delayed                       |   \n",
    "$\\sigma_{kick}$ | 265 km/s |\n",
    "$\\alpha$ | 1.0 |\n",
    "metallicity    |<font color=gray>run 1:   </font>  0.0002 <br> <font color=gray>run 2:  </font> 0.004 <br> <font color=gray>run 3:  </font> 0.02         | "
   ]
  },
  {
   "cell_type": "markdown",
   "metadata": {},
   "source": [
    "### BBH mass distribution for different metallicities"
   ]
  },
  {
   "cell_type": "markdown",
   "metadata": {},
   "source": [
    "<tr>   \n",
    "<td> <img src=\"mtot_merg_vs_all.png\" style=\"width: 390px;\"/> \n",
    "<div style=\"text-align:left\"> <b>Figure 1:</b> Distribution of the total masses of binary black holes (BBHS) that merge within a Hubble time, compared with the one for all binary black holes.</div>\n",
    "</td>\n",
    "<td> <img src=\"separation_merg_vs_all.png\" style=\"width: 390px;\"/> \n",
    "<div style=\"text-align:left\"> <b>Figure 2:</b> Distribution of the semi-major axis at the formation of the binary (initial separation).</div>\n",
    "</td>\n",
    "</tr>"
   ]
  },
  {
   "cell_type": "markdown",
   "metadata": {},
   "source": [
    "The plots in **Fig.1** show that metallicity has the following effects on the total BBH mass distribution: \n",
    "- The BBHs formed from stars with higher metallicity are distributed over a narrower mass range, with a lower maximum mass <font color=orange>(**Tab.2**) </font>. This behaviour depends on the stellar evolution of their progenitors, in fact the mass loss rate is proportional to the metallicity, therefore stars with higher metallicity form compact remnants with lower mass.\n",
    "\n",
    "\n",
    "- The total number of BBHs and the fraction of those that merge within a Hubble time drops as the metallicity increases (**Tab.1**). <br>This can be due to the following reasons: \n",
    "    - metal rich stars have larger radii so a larger fraction of stellar binaries merge before evolving into compact objects binaries. Those that are formed have larger separation (shown in **Fig.2**) so they take more time to merge, hence the lower merger fraction. **Fig.2** also shows how the number of mergers drops for initial separation >10$^2$ A.U.\n",
    "    - for increading metallicity, more BBHs become unbound as a result of SN kicks since they tend to have lower mass and larger separation (for the reasons stated before). \n",
    "\n",
    "From **Fig.1** it is also evident how, for all values of the metallicity, the BBHs that merge within a Hubble time are those in the lower mass range.  <font color=orange>And their fraction decreases with the mass, for all metallicities. (**Tab.3**)</font> \n",
    "<font color=orange>\n",
    "The most massive stars undergo more nuclear burning cycles and evolve until they have a larger radius so, if their initial separation isn't large enough, they merge before evolving into compact objects. For the same reason, high mass compact object binaries that form have a large separation and take more time to merge.  </font>\n",
    "\n",
    "\n",
    "metallicity|BBH mergers fraction(%)| BBHs fraction(%)\n",
    ":--------- |:------:|:----:|\n",
    "0.0002 | 16.2 | 4.3|\n",
    "0.004  | 10.8 | 3.1|\n",
    "0.02   | 0.1  | 0.3|\n",
    "\n",
    "<font color=white>#######</font> <center>**Table 1:** Fraction of BBHs that merge within a hubble time, <br>in respect to all the BBHs that are formed in the simulation <br> and fraction of BBHs in respect to all simulated binaries <font>  </font>  </center>"
   ]
  },
  {
   "cell_type": "markdown",
   "metadata": {},
   "source": [
    "## CODE\n",
    "\n",
    "The plots in Fig.1 and Fig.2 and the data in Tab.1 were obtained with the script [BBHmass.py](BBHmass.py)"
   ]
  },
  {
   "cell_type": "markdown",
   "metadata": {},
   "source": [
    "### alternative\n",
    "\n",
    "<font color=green>the BH natal kick is set according to: $\\quad v_{kick} = v_{NS}\\, \\frac{m_{ej}}{\\langle m_{ej}\\rangle} \\, \\left( \\frac{m_{rem}}{\\langle m_{NS}\\rangle} \\right)^{-1}$ <br> where $v_{NS}$ is drawn from a maxwellian distribution with rms $\\sigma_{kick}$ = 265 km/s, which corresponds to the one observed for neurton stars natal kicks. The value is then increased for larger ejected mass, to take fallback into account, and decresed for larger mass of the compact remnant, according to linear momentum conservation. </font>\n",
    "\n",
    "\n",
    "<br>\n",
    "<font color=green> \n",
    "less BH binaries form in general: <br>\n",
    "1) larger star radii--> more binaries merge before evolving into compact objects <br>\n",
    "2) larger SN kicks for lower masses, binaries with larger separation --> more binaries are unbound as a result of the SN kicks </font><br>\n",
    "\n",
    "\n",
    "<br>\n",
    "<font color=green> \n",
    "NOTA. more fallback --> less ejected mass --> smaller SN kick</font>\n",
    "<br>\n",
    "\n",
    "<br>\n",
    "<font color=red> \n",
    "change alpha to the values proposed in the 2 papers about common envelope. See what changes: impact on the n° of mergers, shrinking rate of binaries, how many are still undergoing COMENV at the end (envelope not completely removed) </font>\n"
   ]
  },
  {
   "cell_type": "markdown",
   "metadata": {},
   "source": [
    "metallicity| merged BBHs  | all BBHs\n",
    ":--------- |:------:|:------|\n",
    "0.0002 |90    |140 |\n",
    "0.004  |63  |103 |\n",
    "0.02   |23   | 54 |\n",
    "\n",
    "<font color=white>#######</font> <center> **Table 2** Maximum total mass for BBHs \\[ M$_{\\odot}$ \\]  </center>"
   ]
  },
  {
   "cell_type": "markdown",
   "metadata": {},
   "source": [
    "<img src=\"merger_fraction.png\" style=\"width: 500px;\"/>\n",
    "\n",
    "**Figure 3:** raction of BBH mergers in respect to the tolal mass "
   ]
  },
  {
   "cell_type": "code",
   "execution_count": null,
   "metadata": {},
   "outputs": [],
   "source": []
  }
 ],
 "metadata": {
  "kernelspec": {
   "display_name": "Python 3",
   "language": "python",
   "name": "python3"
  },
  "language_info": {
   "codemirror_mode": {
    "name": "ipython",
    "version": 3
   },
   "file_extension": ".py",
   "mimetype": "text/x-python",
   "name": "python",
   "nbconvert_exporter": "python",
   "pygments_lexer": "ipython3",
   "version": "3.8.2"
  }
 },
 "nbformat": 4,
 "nbformat_minor": 4
}
