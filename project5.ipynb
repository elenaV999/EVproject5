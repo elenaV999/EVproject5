{
 "cells": [
  {
   "cell_type": "markdown",
   "metadata": {},
   "source": [
    "---\n",
    "# Binary black holes from stellar evolution\n",
    "---"
   ]
  },
  {
   "cell_type": "markdown",
   "metadata": {},
   "source": [
    "I used the binary population synthesis code MOBSE to simulate three populations of isolated stellar binaries with different metallicities with the aim of investigating the impact of the metallicity on the mass distribution of the binary black holes (BBHs) and on their merger fraction.  "
   ]
  },
  {
   "cell_type": "markdown",
   "metadata": {},
   "source": [
    "### Simulation setup\n",
    "<u>Initial condition for the stellar binaries: </u>\n",
    "- the ZAMS mass of the primary star was generated according to a Kroupa IMF:     $\\quad f(m_1)\\propto m_1^{-2.3}$   with $m_1 \\in [5 , 50]$ M$_{\\odot}$\n",
    "\n",
    "\n",
    "- the ZAMS mass of the companion was derived considering the distribution of the mass ratio $q=\\frac{m_1}{m_2}$:     $\\quad f(q) \\propto q^{-0.1}$   with $q\\in [0,1]$\n",
    "\n",
    "<u>Simulation parameters: </u>\n",
    "\n",
    "- I considered the delayed supernova mechanism, in which the shockwave is revived by convective motions with a delay of > 0.2 seconds from the bounce. This implies an explosion of lower energy, which results in a larger fallback and therefore a compact remnant of larger mass, if compared to the rapid shock revival case.   \n",
    "<br>\n",
    "\n",
    "- The BH natal kick is assumed to be Maxwellian distributed with rms $\\sigma_{kick}$ = 265 km/s, like the one observed for neutron stars, and it is rescaled according to $v_{kick} \\propto m_{rem}^{-1}\\,\\, m_{ej}$  to take into account linear momentum conservation (inverse proportionality to the mass of the compact remnant) and fallback (direct proportionality to the amount of ejected mass). \n",
    "<br>\n",
    "\n",
    "- The common envelope process is described by the $\\alpha\\lambda$ formalism: <br> $\\lambda = 0.1$ is a correction factor for the common envelope binding energy to take into account the geometry of the envelope. <br>$\\alpha$ is a free parameter giving the fraction of orbital energy that contributes to unbind the envelope. It can be considered as an effective parameter accounting for all processes that contribute to unbind the envelope, making it possible to set $\\alpha>1.$ I considered a scenario in which all the orbital energy is transferred to the common envelope and other sources of energy are negligible. \n",
    "\n",
    "simulation parameters        |                         |  \n",
    ":----------------------------|:-----------------------|\n",
    "number of binaries   |   $2 \\cdot10^6$                  |\n",
    "total integration time     |   4 Myr |\n",
    "SN mechanism  | delayed                       |   \n",
    "$\\sigma_{kick}$ | 265 km/s |\n",
    "$\\alpha$ | 1.0 |\n",
    "metallicity    |<font color=gray>run 1:   </font>  0.0002 <br> <font color=gray>run 2:  </font> 0.004 <br> <font color=gray>run 3:  </font> 0.02         | "
   ]
  },
  {
   "cell_type": "markdown",
   "metadata": {},
   "source": [
    "### BBH mass distribution for different metallicities\n",
    "![alt](mtot_merg_vs_all.png) | ![alt](separation_merg_vs_all.png)|\n",
    ":-------|:-----   |\n",
    " **Figure 1:** Distribution of the total masses of binary black holes (BBHs) <br>that merge within a Hubble time, compared with the one for all binary black holes that are formed.|  **Figure 2:** Distribution of the semi-major axis at the formation of the binary (initial separation).|"
   ]
  },
  {
   "cell_type": "markdown",
   "metadata": {},
   "source": [
    "The plots in **Fig.1** show that metallicity has the following effects on the total BBH mass distribution: \n",
    "\n",
    "1) The mass distribution of BBHs that formed from stars with higher metallicity cuts to zero at a lower value. This behavior depends on the stellar evolution of their progenitors, in fact the mass loss rate is directly proportional to the metallicity. \n",
    "\n",
    "2) The number of BBHs that form and the fraction of those that merge within a Hubble time drops as the metallicity increases (**Tab.1**). This can be due to the following reasons: \n",
    "- metal rich stars have larger radii for the same mass, so a larger fraction of stellar binaries merge before evolving into compact objects binaries. Those that are formed have larger separation (**Fig.2**) so they take more time to merge, hence the lower merger fraction. \n",
    "- for increasing metallicity, more BBHs become unbound as a result of SN kicks since they tend to have lower mass and larger separation. \n",
    "\n",
    "The plots in **Fig.2** also show how the number of mergers rapidly goes to zero for initial separation larger than 100 R$_\\odot$, which is to be interpreted as the separation for which a binary takes approximately one Hubble time to shrink unntil merger.\n",
    "\n",
    "|  |\n",
    "|:--|\n",
    "|**Table 1:** Fraction of BBHs that merge within a Hubble time, in respect to all the BBHs that formed (column 1), and fraction of BBHs in respect to all simulated binaries (column 2)|\n",
    "\n",
    "metallicity|BBH mergers fraction(%)| BBHs fraction(%)\n",
    ":--------- |:------:|:----:|\n",
    "0.0002 | 16.2 | 4.3|\n",
    "0.004  | 10.8 | 3.1|\n",
    "0.02   | 0.1  | 0.3|\n"
   ]
  },
  {
   "cell_type": "markdown",
   "metadata": {},
   "source": [
    "### CODE\n",
    "\n",
    "I obtained all the plots and data reported in Tab.1 from the script [BBHmass.py](BBHmass.py)"
   ]
  },
  {
   "cell_type": "code",
   "execution_count": null,
   "metadata": {},
   "outputs": [],
   "source": []
  }
 ],
 "metadata": {
  "kernelspec": {
   "display_name": "Python 3",
   "language": "python",
   "name": "python3"
  },
  "language_info": {
   "codemirror_mode": {
    "name": "ipython",
    "version": 3
   },
   "file_extension": ".py",
   "mimetype": "text/x-python",
   "name": "python",
   "nbconvert_exporter": "python",
   "pygments_lexer": "ipython3",
   "version": "3.8.2"
  }
 },
 "nbformat": 4,
 "nbformat_minor": 4
}
